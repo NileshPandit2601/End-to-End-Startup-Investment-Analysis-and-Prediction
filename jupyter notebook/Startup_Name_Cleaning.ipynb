{
  "nbformat": 4,
  "nbformat_minor": 0,
  "metadata": {
    "colab": {
      "provenance": []
    },
    "kernelspec": {
      "name": "python3",
      "display_name": "Python 3"
    },
    "language_info": {
      "name": "python"
    }
  },
  "cells": [
    {
      "cell_type": "code",
      "source": [
        "import pandas as pd\n",
        "import re\n",
        "import codecs\n",
        "\n",
        "df = pd.read_csv(\"startup_funding_clean.csv\")\n",
        "def clean_startup_name(name):\n",
        "    if pd.isnull(name):\n",
        "        return None\n",
        "\n",
        "    name = str(name).strip()\n",
        "\n",
        "    # Decode escaped unicode sequences if present\n",
        "    try:\n",
        "        name = codecs.decode(name, 'unicode_escape')\n",
        "    except Exception:\n",
        "        pass\n",
        "\n",
        "    # Remove all visible or hidden non-breaking space variants\n",
        "    name = re.sub(r'(\\\\x[a-f0-9]{2})+', ' ', name)   # handles \\xc2\\xa0\n",
        "    name = re.sub(r'Xc2Xa0', ' ', name, flags=re.IGNORECASE)  # handles literal Xc2Xa0\n",
        "    name = name.replace('\\xa0', ' ').replace('\\xc2\\xa0', ' ')\n",
        "\n",
        "    # Remove URLs\n",
        "    name = re.sub(r'http\\S+|www\\.\\S+', '', name)\n",
        "\n",
        "    # Replace fancy apostrophes/quotes\n",
        "    name = name.replace('’', \"'\").replace('‘', \"'\").replace('“', '\"').replace('”', '\"')\n",
        "\n",
        "    # Remove unwanted characters (keep . ' & / -)\n",
        "    name = re.sub(r'[^a-zA-Z0-9\\s\\.\\'\\&\\-/]', '', name)\n",
        "\n",
        "    # Normalize spaces\n",
        "    name = re.sub(r'\\s+', ' ', name).strip()\n",
        "\n",
        "    # Title-case formatting\n",
        "    if name:\n",
        "        name = name.title()\n",
        "\n",
        "    return name\n",
        "\n",
        "# Apply to your dataframe\n",
        "df['Startup Name'] = df['Startup Name'].apply(clean_startup_name)\n",
        "\n",
        "print(\"Unique startup count:\", df['Startup Name'].nunique())\n",
        "print(df['Startup Name'].head(20))\n"
      ],
      "metadata": {
        "colab": {
          "base_uri": "https://localhost:8080/"
        },
        "id": "CMhzD4JAzlJe",
        "outputId": "6f659c8b-a9c2-46a1-82dd-19818f8d8b79"
      },
      "execution_count": 3,
      "outputs": [
        {
          "output_type": "stream",
          "name": "stdout",
          "text": [
            "Unique startup count: 1634\n",
            "0                           Byju'S\n",
            "1                           Shuttl\n",
            "2                        Mamaearth\n",
            "3                                 \n",
            "4                           Fashor\n",
            "5                            Pando\n",
            "6                           Zomato\n",
            "7                           Ecozen\n",
            "8                         Cardekho\n",
            "9                     Dhruva Space\n",
            "10                          Rivigo\n",
            "11                      Healthians\n",
            "12                         Licious\n",
            "13                          Incred\n",
            "14                           Trell\n",
            "15                      Rein Games\n",
            "16                    Lenskart.Com\n",
            "17                      Freshworks\n",
            "18                         Misters\n",
            "19    Sunstone Eduversity Pvt. Ltd\n",
            "Name: Startup Name, dtype: object\n"
          ]
        }
      ]
    },
    {
      "cell_type": "code",
      "source": [
        "# Save cleaned dataset\n",
        "df.to_csv(\"cleaned_startups_funding.csv\", index=False)"
      ],
      "metadata": {
        "id": "JJUcb8sntSW1"
      },
      "execution_count": 2,
      "outputs": []
    },
    {
      "cell_type": "code",
      "source": [],
      "metadata": {
        "id": "sI3LEXHIzH3Y"
      },
      "execution_count": null,
      "outputs": []
    }
  ]
}